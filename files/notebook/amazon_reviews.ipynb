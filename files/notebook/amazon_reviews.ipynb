{
 "cells": [
  {
   "cell_type": "code",
   "execution_count": 1,
   "metadata": {
    "execution": {
     "iopub.execute_input": "2022-03-01T02:44:49.558004Z",
     "iopub.status.busy": "2022-03-01T02:44:49.557735Z",
     "iopub.status.idle": "2022-03-01T02:44:49.575705Z",
     "shell.execute_reply": "2022-03-01T02:44:49.575013Z",
     "shell.execute_reply.started": "2022-03-01T02:44:49.557970Z"
    },
    "tags": []
   },
   "outputs": [
    {
     "data": {
      "text/html": [
       "Current session configs: <tt>{'proxyUser': 'user_vasveena', 'conf': {'spark.pyspark.python': 'python3', 'spark.pyspark.virtualenv.enabled': 'true', 'spark.pyspark.virtualenv.type': 'native', 'spark.pyspark.virtualenv.bin.path': '/usr/bin/virtualenv'}, 'kind': 'pyspark'}</tt><br>"
      ],
      "text/plain": [
       "<IPython.core.display.HTML object>"
      ]
     },
     "metadata": {},
     "output_type": "display_data"
    },
    {
     "data": {
      "text/html": [
       "No active sessions."
      ],
      "text/plain": [
       "<IPython.core.display.HTML object>"
      ]
     },
     "metadata": {},
     "output_type": "display_data"
    }
   ],
   "source": [
    "%%info"
   ]
  },
  {
   "cell_type": "code",
   "execution_count": 2,
   "metadata": {
    "execution": {
     "iopub.execute_input": "2022-03-01T02:44:49.598156Z",
     "iopub.status.busy": "2022-03-01T02:44:49.597930Z",
     "iopub.status.idle": "2022-03-01T02:45:16.944343Z",
     "shell.execute_reply": "2022-03-01T02:45:16.943690Z",
     "shell.execute_reply.started": "2022-03-01T02:44:49.598127Z"
    },
    "tags": []
   },
   "outputs": [
    {
     "data": {
      "application/vnd.jupyter.widget-view+json": {
       "model_id": "4d4aee08c5864e0490376fc13550da5f",
       "version_major": 2,
       "version_minor": 0
      },
      "text/plain": [
       "VBox()"
      ]
     },
     "metadata": {},
     "output_type": "display_data"
    },
    {
     "name": "stdout",
     "output_type": "stream",
     "text": [
      "Starting Spark application\n"
     ]
    },
    {
     "data": {
      "text/html": [
       "<table>\n",
       "<tbody><tr><th>ID</th><th>YARN Application ID</th><th>Kind</th><th>State</th><th>Spark UI</th><th>Driver log</th><th>Current session?</th></tr><tr><td>7</td><td>application_1645574675843_0016</td><td>pyspark</td><td>idle</td><td><a target=\"_blank\" href=\"http://ip-172-31-45-211.ec2.internal:20888/proxy/application_1645574675843_0016/\" class=\"emr-proxy-link j-U2EQBRHWSP7P application_1645574675843_0016\" emr-resource=\"j-U2EQBRHWSP7P\n",
       "\" application-id=\"application_1645574675843_0016\">Link</a></td><td><a target=\"_blank\" href=\"http://ip-172-31-41-57.ec2.internal:8042/node/containerlogs/container_1645574675843_0016_01_000001/livy\">Link</a></td><td>✔</td></tr></tbody></table>"
      ],
      "text/plain": [
       "<IPython.core.display.HTML object>"
      ]
     },
     "metadata": {},
     "output_type": "display_data"
    },
    {
     "data": {
      "application/vnd.jupyter.widget-view+json": {
       "model_id": "",
       "version_major": 2,
       "version_minor": 0
      },
      "text/plain": [
       "FloatProgress(value=0.0, bar_style='info', description='Progress:', layout=Layout(height='25px', width='50%'),…"
      ]
     },
     "metadata": {},
     "output_type": "display_data"
    },
    {
     "name": "stdout",
     "output_type": "stream",
     "text": [
      "SparkSession available as 'spark'.\n"
     ]
    },
    {
     "data": {
      "application/vnd.jupyter.widget-view+json": {
       "model_id": "",
       "version_major": 2,
       "version_minor": 0
      },
      "text/plain": [
       "FloatProgress(value=0.0, bar_style='info', description='Progress:', layout=Layout(height='25px', width='50%'),…"
      ]
     },
     "metadata": {},
     "output_type": "display_data"
    },
    {
     "name": "stdout",
     "output_type": "stream",
     "text": [
      "aws-cfn-bootstrap (2.0)\n",
      "beautifulsoup4 (4.9.3)\n",
      "boto (2.49.0)\n",
      "click (8.0.3)\n",
      "cycler (0.11.0)\n",
      "docutils (0.14)\n",
      "fonttools (4.29.1)\n",
      "jmespath (0.10.0)\n",
      "joblib (1.1.0)\n",
      "kiwisolver (1.3.2)\n",
      "lockfile (0.11.0)\n",
      "lxml (4.6.3)\n",
      "mysqlclient (1.4.2)\n",
      "nltk (3.6.5)\n",
      "nose (1.3.4)\n",
      "packaging (21.3)\n",
      "Pillow (9.0.1)\n",
      "pip (9.0.1)\n",
      "py-dateutil (2.2)\n",
      "pyparsing (3.0.7)\n",
      "pystache (0.5.4)\n",
      "python-daemon (2.2.3)\n",
      "python-dateutil (2.8.2)\n",
      "python37-sagemaker-pyspark (1.4.1)\n",
      "pytz (2021.3)\n",
      "PyYAML (5.4.1)\n",
      "regex (2021.10.21)\n",
      "setuptools (28.8.0)\n",
      "simplejson (3.2.0)\n",
      "six (1.13.0)\n",
      "tqdm (4.62.3)\n",
      "wheel (0.29.0)\n",
      "windmill (1.6)\n",
      "\n",
      "DEPRECATION: The default format will switch to columns in the future. You can use --format=(legacy|columns) (or define a format=(legacy|columns) in your pip.conf under the [list] section) to disable this warning.\n",
      "You are using pip version 9.0.1, however version 22.0.3 is available.\n",
      "You should consider upgrading via the 'pip install --upgrade pip' command."
     ]
    }
   ],
   "source": [
    "sc.list_packages()"
   ]
  },
  {
   "cell_type": "code",
   "execution_count": 3,
   "metadata": {
    "execution": {
     "iopub.execute_input": "2022-03-01T02:45:16.945608Z",
     "iopub.status.busy": "2022-03-01T02:45:16.945399Z",
     "iopub.status.idle": "2022-03-01T02:45:24.250614Z",
     "shell.execute_reply": "2022-03-01T02:45:24.249933Z",
     "shell.execute_reply.started": "2022-03-01T02:45:16.945578Z"
    },
    "tags": []
   },
   "outputs": [
    {
     "data": {
      "application/vnd.jupyter.widget-view+json": {
       "model_id": "d5b9e345639d49af9fff42470a48ec32",
       "version_major": 2,
       "version_minor": 0
      },
      "text/plain": [
       "VBox()"
      ]
     },
     "metadata": {},
     "output_type": "display_data"
    },
    {
     "data": {
      "application/vnd.jupyter.widget-view+json": {
       "model_id": "",
       "version_major": 2,
       "version_minor": 0
      },
      "text/plain": [
       "FloatProgress(value=0.0, bar_style='info', description='Progress:', layout=Layout(height='25px', width='50%'),…"
      ]
     },
     "metadata": {},
     "output_type": "display_data"
    }
   ],
   "source": [
    "df = spark.read.parquet('s3://amazon-reviews-pds/parquet/product_category=Books/*.parquet')"
   ]
  },
  {
   "cell_type": "code",
   "execution_count": 4,
   "metadata": {
    "execution": {
     "iopub.execute_input": "2022-03-01T02:45:24.256178Z",
     "iopub.status.busy": "2022-03-01T02:45:24.255944Z",
     "iopub.status.idle": "2022-03-01T02:45:24.514134Z",
     "shell.execute_reply": "2022-03-01T02:45:24.513523Z",
     "shell.execute_reply.started": "2022-03-01T02:45:24.256117Z"
    },
    "tags": []
   },
   "outputs": [
    {
     "data": {
      "application/vnd.jupyter.widget-view+json": {
       "model_id": "7e36022e306246cca0fcd29e8dc7851c",
       "version_major": 2,
       "version_minor": 0
      },
      "text/plain": [
       "VBox()"
      ]
     },
     "metadata": {},
     "output_type": "display_data"
    },
    {
     "data": {
      "application/vnd.jupyter.widget-view+json": {
       "model_id": "",
       "version_major": 2,
       "version_minor": 0
      },
      "text/plain": [
       "FloatProgress(value=0.0, bar_style='info', description='Progress:', layout=Layout(height='25px', width='50%'),…"
      ]
     },
     "metadata": {},
     "output_type": "display_data"
    },
    {
     "name": "stdout",
     "output_type": "stream",
     "text": [
      "Total Columns: 15\n",
      "root\n",
      " |-- marketplace: string (nullable = true)\n",
      " |-- customer_id: string (nullable = true)\n",
      " |-- review_id: string (nullable = true)\n",
      " |-- product_id: string (nullable = true)\n",
      " |-- product_parent: string (nullable = true)\n",
      " |-- product_title: string (nullable = true)\n",
      " |-- star_rating: integer (nullable = true)\n",
      " |-- helpful_votes: integer (nullable = true)\n",
      " |-- total_votes: integer (nullable = true)\n",
      " |-- vine: string (nullable = true)\n",
      " |-- verified_purchase: string (nullable = true)\n",
      " |-- review_headline: string (nullable = true)\n",
      " |-- review_body: string (nullable = true)\n",
      " |-- review_date: date (nullable = true)\n",
      " |-- year: integer (nullable = true)"
     ]
    }
   ],
   "source": [
    "# Total columns\n",
    "print(f'Total Columns: {len(df.dtypes)}')\n",
    "df.printSchema()"
   ]
  },
  {
   "cell_type": "code",
   "execution_count": 5,
   "metadata": {
    "execution": {
     "iopub.execute_input": "2022-03-01T02:45:24.515300Z",
     "iopub.status.busy": "2022-03-01T02:45:24.515090Z",
     "iopub.status.idle": "2022-03-01T02:45:31.812857Z",
     "shell.execute_reply": "2022-03-01T02:45:31.812113Z",
     "shell.execute_reply.started": "2022-03-01T02:45:24.515263Z"
    },
    "tags": []
   },
   "outputs": [
    {
     "data": {
      "application/vnd.jupyter.widget-view+json": {
       "model_id": "7f09ecacec3d469aa0429f20d14ded2c",
       "version_major": 2,
       "version_minor": 0
      },
      "text/plain": [
       "VBox()"
      ]
     },
     "metadata": {},
     "output_type": "display_data"
    },
    {
     "data": {
      "application/vnd.jupyter.widget-view+json": {
       "model_id": "",
       "version_major": 2,
       "version_minor": 0
      },
      "text/plain": [
       "FloatProgress(value=0.0, bar_style='info', description='Progress:', layout=Layout(height='25px', width='50%'),…"
      ]
     },
     "metadata": {},
     "output_type": "display_data"
    },
    {
     "name": "stdout",
     "output_type": "stream",
     "text": [
      "Total Rows: 20,726,160"
     ]
    }
   ],
   "source": [
    "# Total row\n",
    "print(f'Total Rows: {df.count():,}')"
   ]
  },
  {
   "cell_type": "code",
   "execution_count": 6,
   "metadata": {
    "execution": {
     "iopub.execute_input": "2022-03-01T02:45:31.813917Z",
     "iopub.status.busy": "2022-03-01T02:45:31.813716Z",
     "iopub.status.idle": "2022-03-01T02:45:39.197491Z",
     "shell.execute_reply": "2022-03-01T02:45:39.196904Z",
     "shell.execute_reply.started": "2022-03-01T02:45:31.813888Z"
    },
    "tags": []
   },
   "outputs": [
    {
     "data": {
      "application/vnd.jupyter.widget-view+json": {
       "model_id": "149f9fab5846409494ff8962ebe1dcfa",
       "version_major": 2,
       "version_minor": 0
      },
      "text/plain": [
       "VBox()"
      ]
     },
     "metadata": {},
     "output_type": "display_data"
    },
    {
     "data": {
      "application/vnd.jupyter.widget-view+json": {
       "model_id": "",
       "version_major": 2,
       "version_minor": 0
      },
      "text/plain": [
       "FloatProgress(value=0.0, bar_style='info', description='Progress:', layout=Layout(height='25px', width='50%'),…"
      ]
     },
     "metadata": {},
     "output_type": "display_data"
    },
    {
     "name": "stdout",
     "output_type": "stream",
     "text": [
      "Number of Books: 3,423,743"
     ]
    }
   ],
   "source": [
    "# Total number of books\n",
    "num_of_books = df.select('product_id').distinct().count()\n",
    "print(f'Number of Books: {num_of_books:,}')"
   ]
  },
  {
   "cell_type": "code",
   "execution_count": 7,
   "metadata": {
    "execution": {
     "iopub.execute_input": "2022-03-01T02:46:14.596373Z",
     "iopub.status.busy": "2022-03-01T02:46:14.596079Z",
     "iopub.status.idle": "2022-03-01T02:46:35.944828Z",
     "shell.execute_reply": "2022-03-01T02:46:35.944126Z",
     "shell.execute_reply.started": "2022-03-01T02:46:14.596342Z"
    },
    "tags": []
   },
   "outputs": [
    {
     "data": {
      "application/vnd.jupyter.widget-view+json": {
       "model_id": "2d9dcd167c744385bf095374d869e6fa",
       "version_major": 2,
       "version_minor": 0
      },
      "text/plain": [
       "VBox()"
      ]
     },
     "metadata": {},
     "output_type": "display_data"
    },
    {
     "data": {
      "application/vnd.jupyter.widget-view+json": {
       "model_id": "",
       "version_major": 2,
       "version_minor": 0
      },
      "text/plain": [
       "FloatProgress(value=0.0, bar_style='info', description='Progress:', layout=Layout(height='25px', width='50%'),…"
      ]
     },
     "metadata": {},
     "output_type": "display_data"
    },
    {
     "name": "stdout",
     "output_type": "stream",
     "text": [
      "Collecting cython==0.28.29\n",
      "\n",
      "Collecting pandas==1.0.5\n",
      "  Using cached https://files.pythonhosted.org/packages/af/f3/683bf2547a3eaeec15b39cef86f61e921b3b187f250fcd2b5c5fb4386369/pandas-1.0.5-cp37-cp37m-manylinux1_x86_64.whl\n",
      "Requirement already satisfied: pytz>=2017.2 in /usr/local/lib/python3.7/site-packages (from pandas==1.0.5)\n",
      "Requirement already satisfied: numpy>=1.13.3 in /usr/local/lib64/python3.7/site-packages (from pandas==1.0.5)\n",
      "Requirement already satisfied: python-dateutil>=2.6.1 in /usr/local/lib/python3.7/site-packages (from pandas==1.0.5)\n",
      "Requirement already satisfied: six>=1.5 in /usr/local/lib/python3.7/site-packages (from python-dateutil>=2.6.1->pandas==1.0.5)\n",
      "Installing collected packages: pandas\n",
      "Successfully installed pandas-1.0.5\n",
      "\n",
      "Collecting numpy==1.19.5\n",
      "  Using cached https://files.pythonhosted.org/packages/b1/e1/8c4c5632adaffc18dba4e03e97458dc1cb00583811e6982fc620b9d88515/numpy-1.19.5-cp37-cp37m-manylinux1_x86_64.whl\n",
      "Installing collected packages: numpy\n",
      "  Found existing installation: numpy 1.21.5\n",
      "    Not uninstalling numpy at /usr/local/lib64/python3.7/site-packages, outside environment /tmp/1646102712952-0\n",
      "Successfully installed numpy-1.19.5\n",
      "\n",
      "  Could not find a version that satisfies the requirement cython==0.28.29 (from versions: 0.9.6.5, 0.9.6.6, 0.9.6.7, 0.9.6.8, 0.9.6.10b0, 0.9.6.10, 0.9.6.10.1, 0.9.6.11b0, 0.9.6.11, 0.9.6.12, 0.9.6.13, 0.9.6.13.1, 0.9.6.14, 0.9.8, 0.9.8.1, 0.9.8.1.1, 0.10, 0.10.1, 0.10.2, 0.10.3, 0.11, 0.11.1, 0.11.2, 0.11.3, 0.12, 0.12.1, 0.13, 0.14, 0.14.1, 0.15, 0.15.1, 0.16, 0.17, 0.17.1, 0.17.2, 0.17.3, 0.17.4, 0.18, 0.19, 0.19.1, 0.19.2, 0.20, 0.20.1, 0.20.2, 0.21, 0.21.1, 0.21.2, 0.22, 0.22.1, 0.23, 0.23.1, 0.23.2, 0.23.3, 0.23.4, 0.23.5, 0.24, 0.24.1, 0.25, 0.25.1, 0.25.2, 0.26, 0.26.1, 0.27, 0.27.1, 0.27.2, 0.27.3, 0.28, 0.28.1, 0.28.2, 0.28.3, 0.28.4, 0.28.5, 0.28.6, 0.29, 0.29.1, 0.29.2, 0.29.3, 0.29.4, 0.29.5, 0.29.6, 0.29.7, 0.29.8, 0.29.9, 0.29.10, 0.29.11, 0.29.12, 0.29.13, 0.29.14, 0.29.15, 0.29.16, 0.29.17, 0.29.18, 0.29.19, 0.29.20, 0.29.21, 0.29.22, 0.29.23, 0.29.24, 0.29.25, 0.29.26, 0.29.27, 0.29.28, 3.0a1, 3.0a2, 3.0a3, 3.0a4, 3.0a5, 3.0a6, 3.0a7, 3.0.0a8, 3.0.0a9, 3.0.0a10)\n",
      "No matching distribution found for cython==0.28.29\n",
      "You are using pip version 9.0.1, however version 22.0.3 is available.\n",
      "You should consider upgrading via the 'pip install --upgrade pip' command.\n",
      "\n",
      "You are using pip version 9.0.1, however version 22.0.3 is available.\n",
      "You should consider upgrading via the 'pip install --upgrade pip' command.\n",
      "\n",
      "You are using pip version 9.0.1, however version 22.0.3 is available.\n",
      "You should consider upgrading via the 'pip install --upgrade pip' command."
     ]
    }
   ],
   "source": [
    "sc.install_pypi_package(\"cython==0.28.29\") #Intall Cython version 0.28.29\n",
    "sc.install_pypi_package(\"pandas==1.0.5\") #Install pandas version 1.0.5\n",
    "sc.install_pypi_package(\"numpy==1.19.5\") #Intall numpy version 1.19.5\n",
    "sc.install_pypi_package(\"matplotlib\", \"https://pypi.org/simple\") #Install matplotlib from given PyPI repository"
   ]
  },
  {
   "cell_type": "code",
   "execution_count": 8,
   "metadata": {
    "execution": {
     "iopub.execute_input": "2022-03-01T02:46:39.684045Z",
     "iopub.status.busy": "2022-03-01T02:46:39.683786Z",
     "iopub.status.idle": "2022-03-01T02:46:40.445679Z",
     "shell.execute_reply": "2022-03-01T02:46:40.445062Z",
     "shell.execute_reply.started": "2022-03-01T02:46:39.684015Z"
    },
    "tags": []
   },
   "outputs": [
    {
     "data": {
      "application/vnd.jupyter.widget-view+json": {
       "model_id": "158aa707941c45fca02f12857055b3b9",
       "version_major": 2,
       "version_minor": 0
      },
      "text/plain": [
       "VBox()"
      ]
     },
     "metadata": {},
     "output_type": "display_data"
    },
    {
     "data": {
      "application/vnd.jupyter.widget-view+json": {
       "model_id": "",
       "version_major": 2,
       "version_minor": 0
      },
      "text/plain": [
       "FloatProgress(value=0.0, bar_style='info', description='Progress:', layout=Layout(height='25px', width='50%'),…"
      ]
     },
     "metadata": {},
     "output_type": "display_data"
    },
    {
     "name": "stdout",
     "output_type": "stream",
     "text": [
      "aws-cfn-bootstrap (2.0)\n",
      "beautifulsoup4 (4.9.3)\n",
      "boto (2.49.0)\n",
      "click (8.0.3)\n",
      "cycler (0.11.0)\n",
      "docutils (0.14)\n",
      "fonttools (4.29.1)\n",
      "jmespath (0.10.0)\n",
      "joblib (1.1.0)\n",
      "kiwisolver (1.3.2)\n",
      "lockfile (0.11.0)\n",
      "lxml (4.6.3)\n",
      "matplotlib (3.5.1)\n",
      "mysqlclient (1.4.2)\n",
      "nltk (3.6.5)\n",
      "nose (1.3.4)\n",
      "numpy (1.19.5)\n",
      "packaging (21.3)\n",
      "pandas (1.0.5)\n",
      "Pillow (9.0.1)\n",
      "pip (9.0.1)\n",
      "py-dateutil (2.2)\n",
      "pyparsing (3.0.7)\n",
      "pystache (0.5.4)\n",
      "python-daemon (2.2.3)\n",
      "python-dateutil (2.8.2)\n",
      "python37-sagemaker-pyspark (1.4.1)\n",
      "pytz (2021.3)\n",
      "PyYAML (5.4.1)\n",
      "regex (2021.10.21)\n",
      "setuptools (28.8.0)\n",
      "simplejson (3.2.0)\n",
      "six (1.13.0)\n",
      "tqdm (4.62.3)\n",
      "wheel (0.29.0)\n",
      "windmill (1.6)\n",
      "\n",
      "DEPRECATION: The default format will switch to columns in the future. You can use --format=(legacy|columns) (or define a format=(legacy|columns) in your pip.conf under the [list] section) to disable this warning.\n",
      "You are using pip version 9.0.1, however version 22.0.3 is available.\n",
      "You should consider upgrading via the 'pip install --upgrade pip' command."
     ]
    }
   ],
   "source": [
    "sc.list_packages()"
   ]
  },
  {
   "cell_type": "code",
   "execution_count": 9,
   "metadata": {
    "execution": {
     "iopub.execute_input": "2022-03-01T02:46:47.863986Z",
     "iopub.status.busy": "2022-03-01T02:46:47.863741Z",
     "iopub.status.idle": "2022-03-01T02:46:51.144453Z",
     "shell.execute_reply": "2022-03-01T02:46:51.143754Z",
     "shell.execute_reply.started": "2022-03-01T02:46:47.863956Z"
    },
    "tags": []
   },
   "outputs": [
    {
     "data": {
      "application/vnd.jupyter.widget-view+json": {
       "model_id": "8f9acce1b71d4b06b1f43c01951d63b9",
       "version_major": 2,
       "version_minor": 0
      },
      "text/plain": [
       "VBox()"
      ]
     },
     "metadata": {},
     "output_type": "display_data"
    },
    {
     "data": {
      "application/vnd.jupyter.widget-view+json": {
       "model_id": "",
       "version_major": 2,
       "version_minor": 0
      },
      "text/plain": [
       "FloatProgress(value=0.0, bar_style='info', description='Progress:', layout=Layout(height='25px', width='50%'),…"
      ]
     },
     "metadata": {},
     "output_type": "display_data"
    },
    {
     "name": "stdout",
     "output_type": "stream",
     "text": [
      "Text(0, 0.5, 'Number of Reviews')"
     ]
    }
   ],
   "source": [
    "# Number of reviews across years\n",
    "num_of_reviews_by_year = df.groupBy('year').count().orderBy('year').toPandas()\n",
    "\n",
    "import matplotlib.pyplot as plt\n",
    "plt.clf()\n",
    "num_of_reviews_by_year.plot(kind='area', x='year',y='count', rot=70, color='#bc5090', legend=None, figsize=(8,6))\n",
    "plt.xticks(num_of_reviews_by_year.year)\n",
    "plt.xlim(1995, 2015)\n",
    "plt.title('Number of reviews across years')\n",
    "plt.xlabel('Year')\n",
    "plt.ylabel('Number of Reviews')"
   ]
  },
  {
   "cell_type": "code",
   "execution_count": 10,
   "metadata": {
    "execution": {
     "iopub.execute_input": "2022-03-01T02:46:51.145748Z",
     "iopub.status.busy": "2022-03-01T02:46:51.145536Z",
     "iopub.status.idle": "2022-03-01T02:46:51.380239Z",
     "shell.execute_reply": "2022-03-01T02:46:51.379623Z",
     "shell.execute_reply.started": "2022-03-01T02:46:51.145718Z"
    },
    "tags": []
   },
   "outputs": [
    {
     "data": {
      "application/vnd.jupyter.widget-view+json": {
       "model_id": "",
       "version_major": 2,
       "version_minor": 0
      },
      "text/plain": [
       "FloatProgress(value=0.0, bar_style='info', description='Progress:', layout=Layout(height='25px', width='50%'),…"
      ]
     },
     "metadata": {},
     "output_type": "display_data"
    },
    {
     "data": {
      "image/png": "[encoded data removed]",
      "text/plain": [
       "<IPython.core.display.Image object>"
      ]
     },
     "metadata": {},
     "output_type": "display_data"
    }
   ],
   "source": [
    "%matplot plt"
   ]
  },
  {
   "cell_type": "code",
   "execution_count": 11,
   "metadata": {
    "execution": {
     "iopub.execute_input": "2022-03-01T02:46:51.381768Z",
     "iopub.status.busy": "2022-03-01T02:46:51.381562Z",
     "iopub.status.idle": "2022-03-01T02:46:52.143025Z",
     "shell.execute_reply": "2022-03-01T02:46:52.142317Z",
     "shell.execute_reply.started": "2022-03-01T02:46:51.381739Z"
    },
    "tags": []
   },
   "outputs": [
    {
     "data": {
      "application/vnd.jupyter.widget-view+json": {
       "model_id": "23e2bd79d1614e389267efc7de9c49bd",
       "version_major": 2,
       "version_minor": 0
      },
      "text/plain": [
       "VBox()"
      ]
     },
     "metadata": {},
     "output_type": "display_data"
    },
    {
     "data": {
      "application/vnd.jupyter.widget-view+json": {
       "model_id": "",
       "version_major": 2,
       "version_minor": 0
      },
      "text/plain": [
       "FloatProgress(value=0.0, bar_style='info', description='Progress:', layout=Layout(height='25px', width='50%'),…"
      ]
     },
     "metadata": {},
     "output_type": "display_data"
    },
    {
     "name": "stdout",
     "output_type": "stream",
     "text": [
      "<matplotlib.legend.Legend object at 0x7f8a742957d0>"
     ]
    }
   ],
   "source": [
    "# Distribution of overall star ratings\n",
    "product_ratings_dist = df.groupBy('star_rating').count().orderBy('count').toPandas()\n",
    "\n",
    "plt.clf()\n",
    "labels = [f\"Star Rating: {rating}\" for rating in product_ratings_dist['star_rating']]\n",
    "reviews = [num_reviews for num_reviews in product_ratings_dist['count']]\n",
    "colors = ['#00876c', '#89c079', '#fff392', '#fc9e5a', '#de425b']\n",
    "fig, ax = plt.subplots(figsize=(8,5))\n",
    "w,a,b = ax.pie(reviews, autopct='%1.1f%%', colors=colors)\n",
    "plt.title('Distribution of star ratings for books')\n",
    "ax.legend(w, labels, title=\"Star Ratings\", loc=\"center left\", bbox_to_anchor=(1, 0, 0.5, 1))"
   ]
  },
  {
   "cell_type": "code",
   "execution_count": 12,
   "metadata": {
    "execution": {
     "iopub.execute_input": "2022-03-01T02:46:52.144209Z",
     "iopub.status.busy": "2022-03-01T02:46:52.143966Z",
     "iopub.status.idle": "2022-03-01T02:46:52.374087Z",
     "shell.execute_reply": "2022-03-01T02:46:52.373440Z",
     "shell.execute_reply.started": "2022-03-01T02:46:52.144176Z"
    },
    "tags": []
   },
   "outputs": [
    {
     "data": {
      "application/vnd.jupyter.widget-view+json": {
       "model_id": "",
       "version_major": 2,
       "version_minor": 0
      },
      "text/plain": [
       "FloatProgress(value=0.0, bar_style='info', description='Progress:', layout=Layout(height='25px', width='50%'),…"
      ]
     },
     "metadata": {},
     "output_type": "display_data"
    },
    {
     "data": {
      "image/png": "[encoded data removed]",
      "text/plain": [
       "<IPython.core.display.Image object>"
      ]
     },
     "metadata": {},
     "output_type": "display_data"
    }
   ],
   "source": [
    "%matplot plt"
   ]
  },
  {
   "cell_type": "code",
   "execution_count": 13,
   "metadata": {
    "execution": {
     "iopub.execute_input": "2022-03-01T02:46:54.911866Z",
     "iopub.status.busy": "2022-03-01T02:46:54.911628Z",
     "iopub.status.idle": "2022-03-01T02:46:58.815382Z",
     "shell.execute_reply": "2022-03-01T02:46:58.814768Z",
     "shell.execute_reply.started": "2022-03-01T02:46:54.911836Z"
    },
    "tags": []
   },
   "outputs": [
    {
     "data": {
      "application/vnd.jupyter.widget-view+json": {
       "model_id": "3cd35424e9264dd8889f014dc67925b8",
       "version_major": 2,
       "version_minor": 0
      },
      "text/plain": [
       "VBox()"
      ]
     },
     "metadata": {},
     "output_type": "display_data"
    },
    {
     "data": {
      "application/vnd.jupyter.widget-view+json": {
       "model_id": "",
       "version_major": 2,
       "version_minor": 0
      },
      "text/plain": [
       "FloatProgress(value=0.0, bar_style='info', description='Progress:', layout=Layout(height='25px', width='50%'),…"
      ]
     },
     "metadata": {},
     "output_type": "display_data"
    },
    {
     "name": "stdout",
     "output_type": "stream",
     "text": [
      "Uninstalling pandas-1.0.5:\n",
      "  Successfully uninstalled pandas-1.0.5\n",
      "\n",
      "You are using pip version 9.0.1, however version 22.0.3 is available.\n",
      "You should consider upgrading via the 'pip install --upgrade pip' command."
     ]
    }
   ],
   "source": [
    "sc.uninstall_package('pandas')"
   ]
  },
  {
   "cell_type": "code",
   "execution_count": 14,
   "metadata": {
    "execution": {
     "iopub.execute_input": "2022-03-01T02:46:58.816703Z",
     "iopub.status.busy": "2022-03-01T02:46:58.816504Z",
     "iopub.status.idle": "2022-03-01T02:46:59.576116Z",
     "shell.execute_reply": "2022-03-01T02:46:59.575492Z",
     "shell.execute_reply.started": "2022-03-01T02:46:58.816674Z"
    },
    "tags": []
   },
   "outputs": [
    {
     "data": {
      "application/vnd.jupyter.widget-view+json": {
       "model_id": "1400ee48df00418da01ec5a152c83b8c",
       "version_major": 2,
       "version_minor": 0
      },
      "text/plain": [
       "VBox()"
      ]
     },
     "metadata": {},
     "output_type": "display_data"
    },
    {
     "data": {
      "application/vnd.jupyter.widget-view+json": {
       "model_id": "",
       "version_major": 2,
       "version_minor": 0
      },
      "text/plain": [
       "FloatProgress(value=0.0, bar_style='info', description='Progress:', layout=Layout(height='25px', width='50%'),…"
      ]
     },
     "metadata": {},
     "output_type": "display_data"
    },
    {
     "name": "stdout",
     "output_type": "stream",
     "text": [
      "aws-cfn-bootstrap (2.0)\n",
      "beautifulsoup4 (4.9.3)\n",
      "boto (2.49.0)\n",
      "click (8.0.3)\n",
      "cycler (0.11.0)\n",
      "docutils (0.14)\n",
      "fonttools (4.29.1)\n",
      "jmespath (0.10.0)\n",
      "joblib (1.1.0)\n",
      "kiwisolver (1.3.2)\n",
      "lockfile (0.11.0)\n",
      "lxml (4.6.3)\n",
      "matplotlib (3.5.1)\n",
      "mysqlclient (1.4.2)\n",
      "nltk (3.6.5)\n",
      "nose (1.3.4)\n",
      "numpy (1.19.5)\n",
      "packaging (21.3)\n",
      "Pillow (9.0.1)\n",
      "pip (9.0.1)\n",
      "py-dateutil (2.2)\n",
      "pyparsing (3.0.7)\n",
      "pystache (0.5.4)\n",
      "python-daemon (2.2.3)\n",
      "python-dateutil (2.8.2)\n",
      "python37-sagemaker-pyspark (1.4.1)\n",
      "pytz (2021.3)\n",
      "PyYAML (5.4.1)\n",
      "regex (2021.10.21)\n",
      "setuptools (28.8.0)\n",
      "simplejson (3.2.0)\n",
      "six (1.13.0)\n",
      "tqdm (4.62.3)\n",
      "wheel (0.29.0)\n",
      "windmill (1.6)\n",
      "\n",
      "DEPRECATION: The default format will switch to columns in the future. You can use --format=(legacy|columns) (or define a format=(legacy|columns) in your pip.conf under the [list] section) to disable this warning.\n",
      "You are using pip version 9.0.1, however version 22.0.3 is available.\n",
      "You should consider upgrading via the 'pip install --upgrade pip' command."
     ]
    }
   ],
   "source": [
    "sc.list_packages()"
   ]
  },
  {
   "cell_type": "code",
   "execution_count": null,
   "metadata": {},
   "outputs": [],
   "source": []
  }
 ],
 "metadata": {
  "kernelspec": {
   "display_name": "PySpark",
   "language": "",
   "name": "pysparkkernel"
  },
  "language_info": {
   "codemirror_mode": {
    "name": "python",
    "version": 3
   },
   "mimetype": "text/x-python",
   "name": "pyspark",
   "pygments_lexer": "python3"
  }
 },
 "nbformat": 4,
 "nbformat_minor": 4
}
